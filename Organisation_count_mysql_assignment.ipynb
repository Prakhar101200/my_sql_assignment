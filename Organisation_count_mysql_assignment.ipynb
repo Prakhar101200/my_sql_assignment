{
 "cells": [
  {
   "cell_type": "code",
   "execution_count": 2,
   "id": "22e81a91",
   "metadata": {},
   "outputs": [
    {
     "name": "stdout",
     "output_type": "stream",
     "text": [
      "Organisations and their email counts: \n",
      "Organisation: uct.ac.za, Count: 12\n",
      "Organisation: media.berkeley.edu, Count: 8\n",
      "Organisation: umich.edu, Count: 14\n",
      "Organisation: iupui.edu, Count: 16\n",
      "Organisation: caret.cam.ac.uk, Count: 2\n",
      "Organisation: gmail.com, Count: 2\n"
     ]
    }
   ],
   "source": [
    "import mysql.connector\n",
    "import os\n",
    "os.getcwd()\n",
    "\n",
    "db_connection = mysql.connector.connect(\n",
    "    host = 'localhost',\n",
    "    user = 'Prakhar_DS',\n",
    "    password = 'Prakhar1012',\n",
    "    database = 'orgcountsql')\n",
    "cursor = db_connection.cursor()\n",
    "\n",
    "cursor.execute('CREATE TABLE IF NOT EXISTS orgcountsql.counts (org VARCHAR(255), count INT)')\n",
    "\n",
    "db_connection.commit()\n",
    "cursor.close()\n",
    "db_connection.close()\n",
    "\n",
    "f = open('mbox.txt', 'r')\n",
    "\n",
    "org_count = {}\n",
    "\n",
    "for line in f:\n",
    "    if line.startswith(\"From\"):\n",
    "        org_name_parts = line.split(\"@\")\n",
    "        if len(org_name_parts) >= 2:\n",
    "            org_name = org_name_parts[1].split()[0]\n",
    "            org_count[org_name] = org_count.get(org_name, 0) + 1\n",
    "            \n",
    "db_connection = mysql.connector.connect(\n",
    "host = 'localhost',\n",
    "user = 'Prakhar_DS', \n",
    "password = 'Prakhar1012', \n",
    "database = 'orgcountsql')\n",
    "\n",
    "cursor = db_connection.cursor()\n",
    "\n",
    "for org, count in org_count.items():\n",
    "    cursor.execute(\"INSERT INTO counts(org, count) VALUES (%s, %s) ON DUPLICATE KEY UPDATE count = count + %s\", (org, count, count))\n",
    "    \n",
    "db_connection.commit()\n",
    "\n",
    "cursor.execute(\"SELECT * FROM counts\")\n",
    "result = cursor.fetchall()\n",
    "\n",
    "print(\"Organisations and their email counts: \")\n",
    "for row in result:\n",
    "    print(f\"Organisation: {row[0]}, Count: {row[1]}\")\n",
    "\n",
    "cursor.close()\n",
    "db_connection.close()"
   ]
  },
  {
   "cell_type": "code",
   "execution_count": null,
   "id": "4dc2a805",
   "metadata": {},
   "outputs": [],
   "source": []
  }
 ],
 "metadata": {
  "kernelspec": {
   "display_name": "Python 3 (ipykernel)",
   "language": "python",
   "name": "python3"
  },
  "language_info": {
   "codemirror_mode": {
    "name": "ipython",
    "version": 3
   },
   "file_extension": ".py",
   "mimetype": "text/x-python",
   "name": "python",
   "nbconvert_exporter": "python",
   "pygments_lexer": "ipython3",
   "version": "3.11.4"
  }
 },
 "nbformat": 4,
 "nbformat_minor": 5
}
